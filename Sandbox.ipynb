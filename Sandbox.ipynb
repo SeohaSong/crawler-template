{
 "cells": [
  {
   "cell_type": "code",
   "execution_count": 162,
   "metadata": {},
   "outputs": [],
   "source": [
    "import re\n",
    "\n",
    "with open('./data/txt.txt') as f:\n",
    "    txt = f.read()\n",
    "\n",
    "part = '(\\[언어\\]|\\[사회\\]|\\[예술\\]|\\[과학\\]|\\[기술\\]|\\[인문\\])' \n",
    "groups = re.compile(r'(%(s)s)((.|\\n)+?)(%(s)s)'%{\"s\": part}).findall(txt)\n",
    "docs = [g[2] for g in groups]"
   ]
  },
  {
   "cell_type": "code",
   "execution_count": 155,
   "metadata": {},
   "outputs": [],
   "source": []
  }
 ],
 "metadata": {
  "kernelspec": {
   "display_name": "Python 3",
   "language": "python",
   "name": "python3"
  },
  "language_info": {
   "codemirror_mode": {
    "name": "ipython",
    "version": 3
   },
   "file_extension": ".py",
   "mimetype": "text/x-python",
   "name": "python",
   "nbconvert_exporter": "python",
   "pygments_lexer": "ipython3",
   "version": "3.6.4"
  }
 },
 "nbformat": 4,
 "nbformat_minor": 2
}
