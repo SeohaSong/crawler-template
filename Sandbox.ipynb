{
 "cells": [
  {
   "cell_type": "code",
   "execution_count": null,
   "metadata": {},
   "outputs": [],
   "source": [
    "from dic_to import arrdic2xml\n",
    "\n",
    "\n",
    "def set_test(seed_key, n_test, n_sample, texts, experiment, name):\n",
    "\n",
    "    def get_arrdic(arr):\n",
    "        arrdic = [\n",
    "            {\"configure\": [\n",
    "                {\"experiment name='\"+experiment+\"-\"+name+\"'\": [\n",
    "                    {\"challenge type='\"+experiment+\"'\": text}\n",
    "                    for text in arr\n",
    "                ]}\n",
    "            ]}\n",
    "        ]\n",
    "        return arrdic\n",
    "    \n",
    "    seed = int(hashlib.sha1(seed_key.encode(\"utf8\")).hexdigest()[10], 16)\n",
    "    np.random.seed(seed)\n",
    "    arrs = [np.random.choice(texts, n_sample) for i in range(n_test)]\n",
    "\n",
    "    arrdic = get_arrdic(texts)\n",
    "    bs = arrdic2xml.convert(arrdic)\n",
    "    with open(\"./config.xml\", \"w\") as f:\n",
    "        f.write(str(bs))\n",
    "\n",
    "ko_speechs = pd.read_pickle(\"./ko-speech-final\")\n",
    "en_speechs = pd.read_pickle(\"./en-speech-final\")\n",
    "set_test(\"송서하\", 4, 100, ko_speechs, \"keyboard\", \"ko\")\n",
    "set_test(\"송서하\", 4, 100, en_speechs, \"keyboard\", \"en\")"
   ]
  },
  {
   "cell_type": "code",
   "execution_count": null,
   "metadata": {},
   "outputs": [],
   "source": []
  },
  {
   "cell_type": "code",
   "execution_count": null,
   "metadata": {},
   "outputs": [],
   "source": []
  }
 ],
 "metadata": {
  "kernelspec": {
   "display_name": "Python 3",
   "language": "python",
   "name": "python3"
  },
  "language_info": {
   "codemirror_mode": {
    "name": "ipython",
    "version": 3
   },
   "file_extension": ".py",
   "mimetype": "text/x-python",
   "name": "python",
   "nbconvert_exporter": "python",
   "pygments_lexer": "ipython3",
   "version": "3.6.4"
  }
 },
 "nbformat": 4,
 "nbformat_minor": 2
}
