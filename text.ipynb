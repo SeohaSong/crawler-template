{
 "cells": [
  {
   "cell_type": "markdown",
   "metadata": {},
   "source": [
    "# Text handler"
   ]
  },
  {
   "cell_type": "markdown",
   "metadata": {},
   "source": [
    "http://rachelee.org/79"
   ]
  },
  {
   "cell_type": "code",
   "execution_count": 1,
   "metadata": {},
   "outputs": [],
   "source": [
    "import pandas as pd\n",
    "from matplotlib import pyplot as plt"
   ]
  },
  {
   "cell_type": "code",
   "execution_count": 2,
   "metadata": {},
   "outputs": [],
   "source": [
    "df = pd.read_csv(\"./en-len.csv\", index_col=0)\n",
    "df = pd.read_csv(\"./ko-len.csv\", index_col=0)"
   ]
  },
  {
   "cell_type": "code",
   "execution_count": 12,
   "metadata": {},
   "outputs": [
    {
     "name": "stdout",
     "output_type": "stream",
     "text": [
      "2248\n"
     ]
    },
    {
     "data": {
      "image/png": "[encoded data removed]",
      "text/plain": [
       "<matplotlib.figure.Figure at 0x11c059a58>"
      ]
     },
     "metadata": {},
     "output_type": "display_data"
    },
    {
     "data": {
      "text/plain": [
       "'What I learned most was how to tell a story in 15 seconds or 30 seconds or 60 seconds - to have some kind of goal of what to try to do and make it happen in that time.'"
      ]
     },
     "execution_count": 12,
     "metadata": {},
     "output_type": "execute_result"
    }
   ],
   "source": [
    "speechs = pd.read_pickle(\"./en-speech-final\")\n",
    "# speechs = sum([s.split(\".\") for s in speechs], [])\n",
    "# speechs = list(set(speechs)-{\"\"})\n",
    "se = pd.Series([len(s) for s in speechs])\n",
    "# se = se[se > 50]\n",
    "# se = se[se < 85]\n",
    "print(len(se))\n",
    "plt.hist(se)\n",
    "plt.show()\n",
    "\n",
    "speechs[0]"
   ]
  },
  {
   "cell_type": "code",
   "execution_count": 5,
   "metadata": {},
   "outputs": [
    {
     "data": {
      "text/plain": [
       "588"
      ]
     },
     "execution_count": 5,
     "metadata": {},
     "output_type": "execute_result"
    }
   ],
   "source": [
    "44032\n",
    "21\n",
    "28\n",
    "588"
   ]
  },
  {
   "cell_type": "code",
   "execution_count": 21,
   "metadata": {},
   "outputs": [
    {
     "name": "stdout",
     "output_type": "stream",
     "text": [
      "508\n"
     ]
    },
    {
     "data": {
      "image/png": "[encoded data removed]",
      "text/plain": [
       "<matplotlib.figure.Figure at 0x11c69d390>"
      ]
     },
     "metadata": {},
     "output_type": "display_data"
    }
   ],
   "source": [
    "speechs = pd.read_pickle(\"./ko-speech-final\")\n",
    "se = pd.Series([len(s) for s in speechs])\n",
    "se = se[se > 60]\n",
    "print(len(se))\n",
    "plt.hist(se)\n",
    "plt.show()"
   ]
  },
  {
   "cell_type": "code",
   "execution_count": null,
   "metadata": {},
   "outputs": [],
   "source": []
  },
  {
   "cell_type": "code",
   "execution_count": null,
   "metadata": {},
   "outputs": [],
   "source": []
  },
  {
   "cell_type": "code",
   "execution_count": null,
   "metadata": {},
   "outputs": [],
   "source": []
  },
  {
   "cell_type": "code",
   "execution_count": null,
   "metadata": {},
   "outputs": [],
   "source": []
  },
  {
   "cell_type": "code",
   "execution_count": null,
   "metadata": {},
   "outputs": [],
   "source": []
  },
  {
   "cell_type": "code",
   "execution_count": null,
   "metadata": {},
   "outputs": [],
   "source": []
  },
  {
   "cell_type": "code",
   "execution_count": null,
   "metadata": {},
   "outputs": [],
   "source": []
  },
  {
   "cell_type": "code",
   "execution_count": null,
   "metadata": {},
   "outputs": [],
   "source": []
  },
  {
   "cell_type": "code",
   "execution_count": null,
   "metadata": {},
   "outputs": [],
   "source": [
    "def check_redundance(a, b):\n",
    "    l = max(len(a), len(b))\n",
    "    a += \"_\"*l\n",
    "    a = a[:l]\n",
    "    b += \"_\"*l\n",
    "    b = b[:l]\n",
    "    comparing = np.array(list(a)) == np.array(list(b))\n",
    "    return True if comparing.sum()/l > 0.8 else False\n",
    "\n",
    "\n",
    "def en_preprocess(speech):\n",
    "    speech = re.sub(\"%\", \"percent\", speech)\n",
    "    speech = re.sub(\"\\\\\\\\\", \"\", speech)\n",
    "    dollars = re.compile(\"\\$\\w+\").findall(speech)\n",
    "    for s in dollars:\n",
    "        speech = speech.replace(s, s[1:]+\" dollar\")\n",
    "    return speech\n",
    "\n",
    "\n",
    "def ko_preprocess(speech):\n",
    "    speech = re.sub(\"\\[.*\\]|\\(.*\\)\", \"\", speech).replace(\"%\", \"퍼센트\")\n",
    "    speech = re.sub(\"[^가-힣0-9\\s\\.,]\", \"\", speech)\n",
    "    speech = \" \".join(speech.split())\n",
    "    return speech\n",
    "\n",
    "\n",
    "en_speechs = pd.read_pickle(\"en-speech-base\")\n",
    "en_speechs = [en_preprocess(speech) for speech in en_speechs]\n",
    "pd.to_pickle(en_speechs, \"en-speech-final\")\n",
    "\n",
    "ko_speechs = pd.read_pickle(\"ko-speech-base\")\n",
    "ko_speechs = [ko_preprocess(speech) for speech in ko_speechs]\n",
    "pd.to_pickle(ko_speechs, \"ko-speech-final\")"
   ]
  },
  {
   "cell_type": "code",
   "execution_count": null,
   "metadata": {},
   "outputs": [],
   "source": [
    "sys.path.append(os.environ[\"SEOHASONG_LIBRARY\"])\n",
    "from dic_to import arrdic2xml\n",
    "\n",
    "\n",
    "def set_test(seed_key, n_test, n_sample, texts, experiment, name):\n",
    "\n",
    "    def get_arrdic(arr):\n",
    "        arrdic = [\n",
    "            {\"configure\": [\n",
    "                {\"experiment name='\"+experiment+\"-\"+name+\"'\": [\n",
    "                    {\"challenge type='\"+experiment+\"'\": text}\n",
    "                    for text in arr\n",
    "                ]}\n",
    "            ]}\n",
    "        ]\n",
    "        return arrdic\n",
    "    \n",
    "#     seed = int(hashlib.sha1(seed_key.encode(\"utf8\")).hexdigest()[10], 16)\n",
    "#     np.random.seed(seed)\n",
    "#     arrs = [np.random.choice(texts, n_sample) for i in range(n_test)]\n",
    "\n",
    "    arrdic = get_arrdic(texts)\n",
    "    bs = arrdic2xml.convert(arrdic)\n",
    "    with open(\"./config.xml\", \"w\") as f:\n",
    "        f.write(str(bs))\n",
    "\n",
    "# ko_speechs = pd.read_pickle(\"./ko-speech-final\")\n",
    "# en_speechs = pd.read_pickle(\"./en-speech-final\")\n",
    "# set_test(\"송서하\", 4, 100, ko_speechs, \"keyboard\", \"ko\")\n",
    "# set_test(\"송서하\", 4, 100, en_speechs, \"keyboard\", \"en\")\n",
    "\n",
    "patterns = pd.read_pickle(\"./pattern-final\")\n",
    "bs = set_test(\"송서하\", 1, 0, patterns, \"pattern\", \"beta\")"
   ]
  }
 ],
 "metadata": {
  "kernelspec": {
   "display_name": "Python 3",
   "language": "python",
   "name": "python3"
  },
  "language_info": {
   "codemirror_mode": {
    "name": "ipython",
    "version": 3
   },
   "file_extension": ".py",
   "mimetype": "text/x-python",
   "name": "python",
   "nbconvert_exporter": "python",
   "pygments_lexer": "ipython3",
   "version": "3.6.4"
  }
 },
 "nbformat": 4,
 "nbformat_minor": 2
}
